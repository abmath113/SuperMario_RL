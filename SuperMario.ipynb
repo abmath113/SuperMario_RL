{
 "cells": [
  {
   "cell_type": "code",
   "execution_count": 1,
   "id": "2180eec7-e873-4c58-a9a2-92b7772d01ad",
   "metadata": {},
   "outputs": [
    {
     "name": "stdout",
     "output_type": "stream",
     "text": [
      "zsh:1: = not found\n",
      "Note: you may need to restart the kernel to use updated packages.\n"
     ]
    }
   ],
   "source": [
    "pip install gym_super_mario_bros == 7.3.0"
   ]
  },
  {
   "cell_type": "code",
   "execution_count": null,
   "id": "b771b228-9e0a-4f3c-b6a1-4704aa2b81ac",
   "metadata": {},
   "outputs": [],
   "source": []
  }
 ],
 "metadata": {
  "kernelspec": {
   "display_name": "Python 3 (ipykernel)",
   "language": "python",
   "name": "python3"
  },
  "language_info": {
   "codemirror_mode": {
    "name": "ipython",
    "version": 3
   },
   "file_extension": ".py",
   "mimetype": "text/x-python",
   "name": "python",
   "nbconvert_exporter": "python",
   "pygments_lexer": "ipython3",
   "version": "3.9.13"
  }
 },
 "nbformat": 4,
 "nbformat_minor": 5
}
